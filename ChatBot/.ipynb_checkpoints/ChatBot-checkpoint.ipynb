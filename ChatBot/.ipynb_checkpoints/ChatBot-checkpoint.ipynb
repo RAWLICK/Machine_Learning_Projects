{
 "cells": [
  {
   "cell_type": "code",
   "execution_count": 1,
   "id": "b086a2f8",
   "metadata": {},
   "outputs": [
    {
     "name": "stdout",
     "output_type": "stream",
     "text": [
      "Defaulting to user installation because normal site-packages is not writeable\n",
      "Requirement already satisfied: nltk in c:\\users\\archit gupta\\appdata\\roaming\\python\\python39\\site-packages (3.7)\n",
      "Requirement already satisfied: tqdm in c:\\users\\archit gupta\\appdata\\roaming\\python\\python39\\site-packages (from nltk) (4.64.0)\n",
      "Requirement already satisfied: regex>=2021.8.3 in c:\\users\\archit gupta\\appdata\\roaming\\python\\python39\\site-packages (from nltk) (2022.8.17)\n",
      "Requirement already satisfied: joblib in c:\\program files\\python39\\lib\\site-packages (from nltk) (1.1.0)\n",
      "Requirement already satisfied: click in c:\\program files\\python39\\lib\\site-packages (from nltk) (8.0.1)\n",
      "Requirement already satisfied: colorama in c:\\program files\\python39\\lib\\site-packages (from click->nltk) (0.4.4)\n",
      "Note: you may need to restart the kernel to use updated packages.\n"
     ]
    },
    {
     "name": "stderr",
     "output_type": "stream",
     "text": [
      "WARNING: You are using pip version 22.0.4; however, version 22.2.2 is available.\n",
      "You should consider upgrading via the 'C:\\Program Files\\Python39\\python.exe -m pip install --upgrade pip' command.\n"
     ]
    }
   ],
   "source": [
    "pip install nltk"
   ]
  },
  {
   "cell_type": "code",
   "execution_count": 2,
   "id": "03a1d252",
   "metadata": {},
   "outputs": [
    {
     "name": "stdout",
     "output_type": "stream",
     "text": [
      "Defaulting to user installation because normal site-packages is not writeable\n",
      "Requirement already satisfied: newspaper3k in c:\\users\\archit gupta\\appdata\\roaming\\python\\python39\\site-packages (0.2.8)\n",
      "Requirement already satisfied: Pillow>=3.3.0 in c:\\program files\\python39\\lib\\site-packages (from newspaper3k) (9.0.1)\n",
      "Requirement already satisfied: feedparser>=5.2.1 in c:\\users\\archit gupta\\appdata\\roaming\\python\\python39\\site-packages (from newspaper3k) (6.0.10)\n",
      "Requirement already satisfied: feedfinder2>=0.0.4 in c:\\users\\archit gupta\\appdata\\roaming\\python\\python39\\site-packages (from newspaper3k) (0.0.4)\n",
      "Requirement already satisfied: python-dateutil>=2.5.3 in c:\\program files\\python39\\lib\\site-packages (from newspaper3k) (2.8.2)\n",
      "Requirement already satisfied: beautifulsoup4>=4.4.1 in c:\\users\\archit gupta\\appdata\\roaming\\python\\python39\\site-packages (from newspaper3k) (4.11.1)\n",
      "Requirement already satisfied: nltk>=3.2.1 in c:\\users\\archit gupta\\appdata\\roaming\\python\\python39\\site-packages (from newspaper3k) (3.7)\n",
      "Requirement already satisfied: tldextract>=2.0.1 in c:\\users\\archit gupta\\appdata\\roaming\\python\\python39\\site-packages (from newspaper3k) (3.3.1)\n",
      "Requirement already satisfied: cssselect>=0.9.2 in c:\\users\\archit gupta\\appdata\\roaming\\python\\python39\\site-packages (from newspaper3k) (1.1.0)\n",
      "Requirement already satisfied: jieba3k>=0.35.1 in c:\\users\\archit gupta\\appdata\\roaming\\python\\python39\\site-packages (from newspaper3k) (0.35.1)\n",
      "Requirement already satisfied: tinysegmenter==0.3 in c:\\users\\archit gupta\\appdata\\roaming\\python\\python39\\site-packages (from newspaper3k) (0.3)\n",
      "Requirement already satisfied: PyYAML>=3.11 in c:\\users\\archit gupta\\appdata\\roaming\\python\\python39\\site-packages (from newspaper3k) (6.0)\n",
      "Requirement already satisfied: requests>=2.10.0 in c:\\users\\archit gupta\\appdata\\roaming\\python\\python39\\site-packages (from newspaper3k) (2.28.1)\n",
      "Note: you may need to restart the kernel to use updated packages.Requirement already satisfied: lxml>=3.6.0 in c:\\users\\archit gupta\\appdata\\roaming\\python\\python39\\site-packages (from newspaper3k) (4.9.1)\n"
     ]
    },
    {
     "name": "stderr",
     "output_type": "stream",
     "text": [
      "WARNING: You are using pip version 22.0.4; however, version 22.2.2 is available.\n",
      "You should consider upgrading via the 'C:\\Program Files\\Python39\\python.exe -m pip install --upgrade pip' command.\n"
     ]
    },
    {
     "name": "stdout",
     "output_type": "stream",
     "text": [
      "\n",
      "Requirement already satisfied: soupsieve>1.2 in c:\\users\\archit gupta\\appdata\\roaming\\python\\python39\\site-packages (from beautifulsoup4>=4.4.1->newspaper3k) (2.3.2.post1)\n",
      "Requirement already satisfied: six in c:\\users\\archit gupta\\appdata\\roaming\\python\\python39\\site-packages (from feedfinder2>=0.0.4->newspaper3k) (1.16.0)\n",
      "Requirement already satisfied: sgmllib3k in c:\\users\\archit gupta\\appdata\\roaming\\python\\python39\\site-packages (from feedparser>=5.2.1->newspaper3k) (1.0.0)\n",
      "Requirement already satisfied: click in c:\\program files\\python39\\lib\\site-packages (from nltk>=3.2.1->newspaper3k) (8.0.1)\n",
      "Requirement already satisfied: joblib in c:\\program files\\python39\\lib\\site-packages (from nltk>=3.2.1->newspaper3k) (1.1.0)\n",
      "Requirement already satisfied: tqdm in c:\\users\\archit gupta\\appdata\\roaming\\python\\python39\\site-packages (from nltk>=3.2.1->newspaper3k) (4.64.0)\n",
      "Requirement already satisfied: regex>=2021.8.3 in c:\\users\\archit gupta\\appdata\\roaming\\python\\python39\\site-packages (from nltk>=3.2.1->newspaper3k) (2022.8.17)\n",
      "Requirement already satisfied: urllib3<1.27,>=1.21.1 in c:\\users\\archit gupta\\appdata\\roaming\\python\\python39\\site-packages (from requests>=2.10.0->newspaper3k) (1.26.9)\n",
      "Requirement already satisfied: certifi>=2017.4.17 in c:\\users\\archit gupta\\appdata\\roaming\\python\\python39\\site-packages (from requests>=2.10.0->newspaper3k) (2022.6.15)\n",
      "Requirement already satisfied: charset-normalizer<3,>=2 in c:\\users\\archit gupta\\appdata\\roaming\\python\\python39\\site-packages (from requests>=2.10.0->newspaper3k) (2.1.0)\n",
      "Requirement already satisfied: idna<4,>=2.5 in c:\\users\\archit gupta\\appdata\\roaming\\python\\python39\\site-packages (from requests>=2.10.0->newspaper3k) (3.3)\n",
      "Requirement already satisfied: requests-file>=1.4 in c:\\users\\archit gupta\\appdata\\roaming\\python\\python39\\site-packages (from tldextract>=2.0.1->newspaper3k) (1.5.1)\n",
      "Requirement already satisfied: filelock>=3.0.8 in c:\\users\\archit gupta\\appdata\\roaming\\python\\python39\\site-packages (from tldextract>=2.0.1->newspaper3k) (3.3.0)\n",
      "Requirement already satisfied: colorama in c:\\program files\\python39\\lib\\site-packages (from click->nltk>=3.2.1->newspaper3k) (0.4.4)\n"
     ]
    }
   ],
   "source": [
    "pip install newspaper3k"
   ]
  },
  {
   "cell_type": "code",
   "execution_count": 3,
   "id": "b6359b84",
   "metadata": {},
   "outputs": [],
   "source": [
    "# nltk- natural language toolkit\n",
    "# newspaper3k- python library used for web-scraping articles.\n",
    "from newspaper import Article\n",
    "import random\n",
    "import string\n",
    "import nltk\n",
    "# CountVectorizer is used to transform a given text into a vector on the basis of the frequency (count) of each word that occurs in the entire text.\n",
    "from sklearn.feature_extraction.text import CountVectorizer\n",
    "from sklearn.metrics.pairwise import cosine_similarity\n",
    "import numpy as np\n",
    "import warnings\n",
    "warnings.filterwarnings('ignore')\n",
    "# These warnings are used when IDE gives you certain warnings when it wants you to upgrade the module."
   ]
  },
  {
   "cell_type": "code",
   "execution_count": 4,
   "id": "17d7b01b",
   "metadata": {},
   "outputs": [
    {
     "data": {
      "text/plain": [
       "True"
      ]
     },
     "execution_count": 4,
     "metadata": {},
     "output_type": "execute_result"
    }
   ],
   "source": [
    "nltk.download('punkt', quiet=True)\n",
    "# punkt is a tokenization process in which a string is broken down into pieces of tokens like words or sentences.\n",
    "# quiet=True is used to hide the reporting statement by python that the module is downloading"
   ]
  },
  {
   "cell_type": "markdown",
   "id": "261b6c4d",
   "metadata": {},
   "source": [
    "## .parse() works just like the punkt above"
   ]
  },
  {
   "cell_type": "code",
   "execution_count": 5,
   "id": "607f4e2f",
   "metadata": {},
   "outputs": [],
   "source": [
    "#Get the article\n",
    "article = Article('https://www.mayoclinic.org/diseases-conditions/chronic-kidney-disease/symptoms-causes/syc-20354521')\n",
    "article.download()\n",
    "article.parse()\n",
    "article.nlp()\n",
    "corpus = article.text"
   ]
  },
  {
   "cell_type": "code",
   "execution_count": 6,
   "id": "6405227e",
   "metadata": {},
   "outputs": [],
   "source": [
    "# print(corpus)"
   ]
  },
  {
   "cell_type": "markdown",
   "id": "a11cb900",
   "metadata": {},
   "source": [
    "## sent_tokenize() method to split a document or paragraph into sentences."
   ]
  },
  {
   "cell_type": "code",
   "execution_count": 7,
   "id": "1a447da1",
   "metadata": {},
   "outputs": [],
   "source": [
    "#Tokenization\n",
    "text = corpus\n",
    "sentence_list = nltk.sent_tokenize(text)  #A list of sentences"
   ]
  },
  {
   "cell_type": "code",
   "execution_count": 8,
   "id": "41dba26c",
   "metadata": {},
   "outputs": [
    {
     "name": "stdout",
     "output_type": "stream",
     "text": [
      "[\"I'm Dr. Andrew Bentall, a kidney doctor at Mayo Clinic.\", 'I look after patients with kidney disease, either in the early stages, or with more advanced kidney disease considering dialysis and transplantation as treatment options.', \"In this video, we'll cover the basics of chronic kidney disease.\", 'What is it?', 'Who gets it?', 'The symptoms, diagnosis and treatment.', \"Whether you are looking for answers for yourself or for someone you love, we're here to give you the best information available.\", 'Chronic kidney disease is a disease characterized by progressive damage and loss of function in the kidneys.', \"It's estimated that chronic kidney disease affects about one in seven American adults.\", \"And most of those don't know they have it.\", \"Before we get into the disease itself, let's talk a little bit about the kidneys and what they do.\", 'Our kidneys play many important roles keeping our bodies in balance.', 'They remove waste and toxins, excess water from the bloodstream, which is carried out of the body in urine.', \"They helped to make hormones to produce red blood cells, and they turn vitamin D into its active form, so it's usable in the body.\", 'There are quite a few things that can cause or put you at higher risk for chronic kidney disease.', 'Some of them are not things that can be avoided.', 'Your risk is simply higher if you have a family history of certain genetic conditions like polycystic kidney disease or some autoimmune diseases like lupus or IgA nephropathy.', 'Defects in the kidney structure can also cause your kidneys to fail, and you have an increased risk as you get older.', 'Sometimes, other common medical conditions can increase your risk.', 'Diabetes is the most common cause of kidney disease.', 'Both type 1 and type 2 diabetes.', 'But also heart disease and obesity can contribute to the damage that causes kidneys to fail.', 'Urinary tract issues and inflammation in different parts of the kidney can also lead to long-term functional decline.', 'There are things that are more under our control: Heavy or long-term use of certain medications, even those that are common over-the-counter.', 'Smoking can also be a contributing factor to chronic kidney disease.', 'Often there are no outward signs in the earlier stages of chronic kidney disease, which is grouped into stages 1 through 5.', 'Generally, earlier stages are known as 1 to 3.', 'And as kidney disease progresses, you may notice the following symptoms.', 'Nausea and vomiting, muscle cramps, loss of appetite, swelling via feet and ankles, dry, itchy skin, shortness of breath, trouble sleeping, urinating either too much or too little.', 'However, these are usually in the later stages, but they can also happen in other disorders.', \"So don't automatically interpret this as having kidney disease.\", \"But if you're experiencing anything that concerns you, you should make an appointment with your doctor.\", 'Even before any symptoms appear, routine blood work can indicate that you might be in the early stages of chronic kidney disease.', \"And the earlier it's detected, the easier it is to treat.\", 'This is why regular checkups with your doctor are important.', 'If your doctor suspects the onset of chronic kidney disease, they may schedule a variety of other tests.', 'They may also refer you to a kidney specialist, a nephrologist like myself.', 'Urine tests can reveal abnormalities and give clues to the underlying cause of the chronic kidney disease.', 'And this can also help to determine the underlying issues.', 'Various imaging tests like ultrasounds or CT scans can be done to help your doctor assess the size, the structure, as well as evaluate the visible damage, inflammation or stones of your kidneys.', 'And in some cases, a kidney biopsy may be necessary.', 'And a small amount of tissue is taken with a needle and sent to the pathologist for further analysis.', 'Treatment is determined by what is causing your kidneys to not function normally.', 'Treating the cause is key, leading to reduced complications and slowing progression of kidney disease.', 'For example, getting better blood pressure control, improved sugar control and diabetes, and reducing weight are often key interventions.', 'However, existing damage is not usually reversible.', 'In some conditions, treatment can reverse the cause of the disease.', 'So seeking medical review is really important.', 'Individual complications vary, but treatment might include high blood pressure medication, diuretics to reduce fluid and swelling, supplements to relieve anemia, statins to lower cholesterol, or medications to protect your bones and prevent blood vessel calcification.', 'A lower-protein diet may also be recommended.', 'It reduces the amount of waste your kidneys need to filter from your blood.', 'These can not only slow the damage of kidney disease, but make you feel better as well.', \"When the damage has progressed to the point that 85 to 90 percent of your kidney function is gone, and they no longer work well enough to keep you alive, it's called end-stage kidney failure.\", 'But there are still options.', \"There's dialysis, which uses a machine to filter the toxins and remove water from your body as your kidneys are no longer able to do this.\", 'Where possible, the preferred therapy is a kidney transplant.', \"While an organ transplant can sound daunting, it's actually often the better alternative, and the closest thing to a cure, if you qualify for a kidney transplant.\", 'If you have kidney disease, there are lifestyle choices.', 'Namely quit smoking.', 'Consuming alcohol in moderation.', \"If you're overweight or obese, then try to lose weight.\", 'Staying active and getting exercise can help not only with your weight, but fatigue and stress.', \"If your condition allows, keep up with your routine, whether that's working, hobbies, social activities, or other things you enjoy.\", \"It can be helpful to talk to someone you trust, a friend or relative who's good at listening.\", 'Or your doctor could also refer you to a therapist or social worker.', 'It can also be helpful to find a support group and connect with people going through the same thing.', 'Learning you have chronic kidney disease and learning how to live with it can be a challenge.', 'But there are lots of ways to help you to be more comfortable for longer before more drastic measures are needed.', 'And even then, there is plenty of hope.', \"If you'd like to learn even more about chronic kidney disease, watch our other related videos or visit mayoclinic.org.\", 'We wish you well.']\n"
     ]
    }
   ],
   "source": [
    "#Printing the list of sentences\n",
    "print(sentence_list)"
   ]
  },
  {
   "cell_type": "code",
   "execution_count": 9,
   "id": "99067193",
   "metadata": {},
   "outputs": [],
   "source": [
    "# A function to return a random greeting response to a users settings\n",
    "def greeting_response(text):\n",
    "    text = text.lower()\n",
    "    \n",
    "    #Bots greeeting response\n",
    "    bot_greetings= ['howdy', 'hi', 'hey', 'hello', 'hola']\n",
    "    #Users greeting\n",
    "    user_greetings = ['hi', 'hey', 'hello', 'greetings', 'wassup']\n",
    "    \n",
    "    \n",
    "    for word in text.split():\n",
    "        if word in user_greetings:\n",
    "            return random.choice(bot_greetings)"
   ]
  },
  {
   "cell_type": "code",
   "execution_count": 10,
   "id": "360b4fb2",
   "metadata": {},
   "outputs": [],
   "source": [
    "def index_sort(list_var):\n",
    "    length = len(list_var)\n",
    "    list_index = list(range(0, length))\n",
    "    \n",
    "    x = list_var\n",
    "    for i in range(length):\n",
    "        for j in range(length):\n",
    "            if x[list_index[i]] > x[list_index[j]]:\n",
    "                #Swap\n",
    "                temp = list_index[i]\n",
    "                list_index[i] = list_index[j]\n",
    "                list_index[j] = temp\n",
    "                \n",
    "    return list_index"
   ]
  },
  {
   "cell_type": "code",
   "execution_count": 11,
   "id": "478e99f6",
   "metadata": {},
   "outputs": [],
   "source": [
    "#Create the bots response\n",
    "def bot_response(user_input):\n",
    "    user_input = user_input.lower()\n",
    "    sentence_list.append(user_input)\n",
    "    bot_response = ''\n",
    "    cm = CountVectorizer().fit_transform(sentence_list)\n",
    "    similarity_scores = cosine_similarity(cm[-1], cm)\n",
    "    similarity_scores_list = similarity_scores.flatten()\n",
    "    index = index_sort(similarity_scores_list)\n",
    "    index = index[1:]\n",
    "    response_flag = 0\n",
    "    \n",
    "    j = 0\n",
    "    for i in range(len(index)):\n",
    "        if similarity_scores_list[index[i]] > 0.0:\n",
    "            bot_response = bot_response + ' '+ sentence_list[index[i]]\n",
    "            response_flag = 1\n",
    "            j = j+1\n",
    "        if j > 2:\n",
    "            break\n",
    "            \n",
    "    if response_flag == 0:\n",
    "        bot_response = bot_response+' '+\"I apologize, I don't understand.\"\n",
    "        \n",
    "    sentence_list.remove(user_input)\n",
    "    \n",
    "    return bot_response"
   ]
  },
  {
   "cell_type": "code",
   "execution_count": 12,
   "id": "d4cb6cd2",
   "metadata": {},
   "outputs": [
    {
     "name": "stdout",
     "output_type": "stream",
     "text": [
      "I'm Dr. Andrew Bentall, a kidney doctor at Mayo Clinic. I look after patients with kidney disease, either in the early stages, or with more advanced kidney disease considering dialysis and transplantation as treatment options. In this video, we'll cover the basics of chronic kidney disease. What is it? Who gets it? The symptoms, diagnosis and treatment. Whether you are looking for answers for yourself or for someone you love, we're here to give you the best information available.\n",
      "\n",
      "Chronic kidney disease is a disease characterized by progressive damage and loss of function in the kidneys. It's estimated that chronic kidney disease affects about one in seven American adults. And most of those don't know they have it. Before we get into the disease itself, let's talk a little bit about the kidneys and what they do. Our kidneys play many important roles keeping our bodies in balance. They remove waste and toxins, excess water from the bloodstream, which is carried out of the body in urine. They helped to make hormones to produce red blood cells, and they turn vitamin D into its active form, so it's usable in the body.\n",
      "\n",
      "There are quite a few things that can cause or put you at higher risk for chronic kidney disease. Some of them are not things that can be avoided. Your risk is simply higher if you have a family history of certain genetic conditions like polycystic kidney disease or some autoimmune diseases like lupus or IgA nephropathy. Defects in the kidney structure can also cause your kidneys to fail, and you have an increased risk as you get older. Sometimes, other common medical conditions can increase your risk. Diabetes is the most common cause of kidney disease. Both type 1 and type 2 diabetes. But also heart disease and obesity can contribute to the damage that causes kidneys to fail. Urinary tract issues and inflammation in different parts of the kidney can also lead to long-term functional decline. There are things that are more under our control: Heavy or long-term use of certain medications, even those that are common over-the-counter. Smoking can also be a contributing factor to chronic kidney disease.\n",
      "\n",
      "Often there are no outward signs in the earlier stages of chronic kidney disease, which is grouped into stages 1 through 5. Generally, earlier stages are known as 1 to 3. And as kidney disease progresses, you may notice the following symptoms. Nausea and vomiting, muscle cramps, loss of appetite, swelling via feet and ankles, dry, itchy skin, shortness of breath, trouble sleeping, urinating either too much or too little. However, these are usually in the later stages, but they can also happen in other disorders. So don't automatically interpret this as having kidney disease. But if you're experiencing anything that concerns you, you should make an appointment with your doctor.\n",
      "\n",
      "Even before any symptoms appear, routine blood work can indicate that you might be in the early stages of chronic kidney disease. And the earlier it's detected, the easier it is to treat. This is why regular checkups with your doctor are important. If your doctor suspects the onset of chronic kidney disease, they may schedule a variety of other tests. They may also refer you to a kidney specialist, a nephrologist like myself. Urine tests can reveal abnormalities and give clues to the underlying cause of the chronic kidney disease. And this can also help to determine the underlying issues. Various imaging tests like ultrasounds or CT scans can be done to help your doctor assess the size, the structure, as well as evaluate the visible damage, inflammation or stones of your kidneys. And in some cases, a kidney biopsy may be necessary. And a small amount of tissue is taken with a needle and sent to the pathologist for further analysis.\n",
      "\n",
      "Treatment is determined by what is causing your kidneys to not function normally. Treating the cause is key, leading to reduced complications and slowing progression of kidney disease. For example, getting better blood pressure control, improved sugar control and diabetes, and reducing weight are often key interventions. However, existing damage is not usually reversible. In some conditions, treatment can reverse the cause of the disease. So seeking medical review is really important. Individual complications vary, but treatment might include high blood pressure medication, diuretics to reduce fluid and swelling, supplements to relieve anemia, statins to lower cholesterol, or medications to protect your bones and prevent blood vessel calcification. A lower-protein diet may also be recommended. It reduces the amount of waste your kidneys need to filter from your blood. These can not only slow the damage of kidney disease, but make you feel better as well. When the damage has progressed to the point that 85 to 90 percent of your kidney function is gone, and they no longer work well enough to keep you alive, it's called end-stage kidney failure. But there are still options. There's dialysis, which uses a machine to filter the toxins and remove water from your body as your kidneys are no longer able to do this. Where possible, the preferred therapy is a kidney transplant. While an organ transplant can sound daunting, it's actually often the better alternative, and the closest thing to a cure, if you qualify for a kidney transplant.\n",
      "\n",
      "If you have kidney disease, there are lifestyle choices. Namely quit smoking. Consuming alcohol in moderation. If you're overweight or obese, then try to lose weight. Staying active and getting exercise can help not only with your weight, but fatigue and stress. If your condition allows, keep up with your routine, whether that's working, hobbies, social activities, or other things you enjoy. It can be helpful to talk to someone you trust, a friend or relative who's good at listening. Or your doctor could also refer you to a therapist or social worker. It can also be helpful to find a support group and connect with people going through the same thing. Learning you have chronic kidney disease and learning how to live with it can be a challenge. But there are lots of ways to help you to be more comfortable for longer before more drastic measures are needed. And even then, there is plenty of hope. If you'd like to learn even more about chronic kidney disease, watch our other related videos or visit mayoclinic.org. We wish you well.\n"
     ]
    }
   ],
   "source": [
    "print(corpus)"
   ]
  },
  {
   "cell_type": "code",
   "execution_count": null,
   "id": "74a02f9a",
   "metadata": {},
   "outputs": [
    {
     "name": "stdout",
     "output_type": "stream",
     "text": [
      "Doc Bot: I am doctor Bot or Doc Bot for short. I will answer your queries about Chronic Kidney Diseases. If you want to exit,  type yes.\n",
      "hello\n",
      "Doc Bot: hola\n",
      "hi\n",
      "Doc Bot: howdy\n",
      "about chronic disease\n",
      "Doc Bot:  It's estimated that chronic kidney disease affects about one in seven American adults. Chronic kidney disease is a disease characterized by progressive damage and loss of function in the kidneys. If you'd like to learn even more about chronic kidney disease, watch our other related videos or visit mayoclinic.org.\n",
      "mayoclinic.org\n",
      "Doc Bot:  If you'd like to learn even more about chronic kidney disease, watch our other related videos or visit mayoclinic.org.\n",
      "Urine tests\n",
      "Doc Bot:  Urine tests can reveal abnormalities and give clues to the underlying cause of the chronic kidney disease. If your doctor suspects the onset of chronic kidney disease, they may schedule a variety of other tests. They remove waste and toxins, excess water from the bloodstream, which is carried out of the body in urine.\n"
     ]
    }
   ],
   "source": [
    "#Start the chat\n",
    "print('Doc Bot: I am doctor Bot or Doc Bot for short. I will answer your queries about Chronic Kidney Diseases. If you want to exit,  type yes.')\n",
    "\n",
    "exit_list = ['exit', 'see you later', 'bye', 'quit', 'break']\n",
    "\n",
    "while(True):\n",
    "    user_input = input()\n",
    "    if user_input.lower() in exit_list:\n",
    "        print('Doc bot: Chat with you later !')\n",
    "        break\n",
    "    else:\n",
    "        if greeting_response(user_input) != None:\n",
    "            print('Doc Bot: '+ greeting_response(user_input))\n",
    "        else:\n",
    "            print('Doc Bot: ' + bot_response(user_input))\n",
    "    "
   ]
  },
  {
   "cell_type": "code",
   "execution_count": null,
   "id": "763892e5",
   "metadata": {},
   "outputs": [],
   "source": []
  }
 ],
 "metadata": {
  "kernelspec": {
   "display_name": "Python 3 (ipykernel)",
   "language": "python",
   "name": "python3"
  },
  "language_info": {
   "codemirror_mode": {
    "name": "ipython",
    "version": 3
   },
   "file_extension": ".py",
   "mimetype": "text/x-python",
   "name": "python",
   "nbconvert_exporter": "python",
   "pygments_lexer": "ipython3",
   "version": "3.9.7"
  }
 },
 "nbformat": 4,
 "nbformat_minor": 5
}
